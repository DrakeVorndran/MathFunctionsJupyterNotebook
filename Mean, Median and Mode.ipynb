{
 "cells": [
  {
   "cell_type": "markdown",
   "metadata": {},
   "source": [
    "# Lesson 2: Mean, Median, and Mode"
   ]
  },
  {
   "cell_type": "code",
   "execution_count": 1,
   "metadata": {},
   "outputs": [],
   "source": [
    "import pandas as pd\n",
    "import math\n",
    "\n",
    "df = pd.read_csv('./dataset/titanic.csv')\n",
    "sex = df['Sex'].dropna()\n",
    "age = df['Age'].dropna()"
   ]
  },
  {
   "cell_type": "code",
   "execution_count": 2,
   "metadata": {},
   "outputs": [],
   "source": [
    "def median(data):\n",
    "    set = list(data)\n",
    "    if(len(set)==0) :\n",
    "        return float('NaN')\n",
    "    set.sort()\n",
    "    if len(set)%2 == 0:\n",
    "        return((set[int(len(set)/2)] + set[int((len(set)/2)-1)])/2)\n",
    "    else:\n",
    "        return(set[int((len(set))/2)])\n",
    "        "
   ]
  },
  {
   "cell_type": "code",
   "execution_count": 3,
   "metadata": {},
   "outputs": [],
   "source": [
    "def mean(data):\n",
    "    return sum(list(data))/len(data)"
   ]
  },
  {
   "cell_type": "code",
   "execution_count": 4,
   "metadata": {},
   "outputs": [],
   "source": [
    "def mode(data):\n",
    "    set = list(data)\n",
    "    d = {}\n",
    "    largest = ([], 0)\n",
    "    for i in set:\n",
    "        if i in d:\n",
    "            d[i] += 1\n",
    "        else:\n",
    "            d[i] = 1\n",
    "    for i, v in d.items():\n",
    "        if v > largest[1]:\n",
    "            largest = ([i], v)\n",
    "        elif v == largest[1]:\n",
    "            l = largest[0]\n",
    "            l.append(i)\n",
    "            larest = (l, v)\n",
    "    return largest[0]\n",
    "        "
   ]
  },
  {
   "cell_type": "code",
   "execution_count": 5,
   "metadata": {},
   "outputs": [],
   "source": [
    "def list_range(data):\n",
    "    return max(data) - min(data)"
   ]
  },
  {
   "cell_type": "code",
   "execution_count": 6,
   "metadata": {},
   "outputs": [],
   "source": [
    "def variance(data):\n",
    "    set = list(data)\n",
    "    meanValue = mean(set)\n",
    "    total = 0\n",
    "    for i in set:\n",
    "        total += (i - meanValue)**2\n",
    "    return total/(len(set)-1)"
   ]
  },
  {
   "cell_type": "code",
   "execution_count": 7,
   "metadata": {},
   "outputs": [],
   "source": [
    "def standard_deviation(data):\n",
    "    return math.sqrt(variance(data))"
   ]
  },
  {
   "cell_type": "code",
   "execution_count": 8,
   "metadata": {},
   "outputs": [],
   "source": [
    "city_A = [29,28,32,35,36]\n",
    "city_B = [12,18,30,45,55]\n",
    "city_C = [32,32,32,32,32]"
   ]
  },
  {
   "cell_type": "code",
   "execution_count": 9,
   "metadata": {},
   "outputs": [
    {
     "name": "stdout",
     "output_type": "stream",
     "text": [
      "3.5355339059327378\n",
      "18.01388353465182\n",
      "0.0\n",
      "6.454972243679028\n"
     ]
    }
   ],
   "source": [
    "print(standard_deviation(city_A))\n",
    "print(standard_deviation(city_B))\n",
    "print(standard_deviation(city_C))\n",
    "print(standard_deviation([5, 10, 15, 20]))"
   ]
  },
  {
   "cell_type": "code",
   "execution_count": 10,
   "metadata": {},
   "outputs": [
    {
     "name": "stdout",
     "output_type": "stream",
     "text": [
      "44.225614979392866\n"
     ]
    }
   ],
   "source": [
    "print(mean(age)+standard_deviation(age))"
   ]
  },
  {
   "cell_type": "code",
   "execution_count": 11,
   "metadata": {},
   "outputs": [],
   "source": [
    "def percentile(data, percent):\n",
    "    data = list(data)\n",
    "    data.sort()\n",
    "    index = math.ceil((percent/100) * len(data))\n",
    "    print(.7/len(data))\n",
    "    return(data[index])"
   ]
  },
  {
   "cell_type": "code",
   "execution_count": 12,
   "metadata": {},
   "outputs": [
    {
     "name": "stdout",
     "output_type": "stream",
     "text": [
      "0.000980392156862745\n"
     ]
    },
    {
     "data": {
      "text/plain": [
       "36.0"
      ]
     },
     "execution_count": 12,
     "metadata": {},
     "output_type": "execute_result"
    }
   ],
   "source": [
    "percentile(age, 70)"
   ]
  },
  {
   "cell_type": "code",
   "execution_count": 13,
   "metadata": {},
   "outputs": [],
   "source": [
    "def covariance(set1, set2):\n",
    "    v = 0\n",
    "    avg1 = mean(set1)\n",
    "    avg2 = mean(set2)\n",
    "    for i in range(len(set1)):\n",
    "        v += (set1[i] - avg1) * (set2[i] - avg2)\n",
    "    return v/len(set1)\n",
    "        "
   ]
  },
  {
   "cell_type": "code",
   "execution_count": 14,
   "metadata": {},
   "outputs": [
    {
     "data": {
      "text/plain": [
       "0.875"
      ]
     },
     "execution_count": 14,
     "metadata": {},
     "output_type": "execute_result"
    }
   ],
   "source": [
    "covariance([1,2,3,4],[1,1,2,3])"
   ]
  },
  {
   "cell_type": "code",
   "execution_count": 15,
   "metadata": {},
   "outputs": [],
   "source": [
    "def covariance_matrix(lists):\n",
    "    matrix = [[] for i in range(len(lists))]\n",
    "    for i_1, l_1 in enumerate(lists):\n",
    "        for i_2, l_2 in enumerate(lists):\n",
    "            if(i_1 == i_2):\n",
    "                matrix[i_1].append(variance(l_1))\n",
    "            else:\n",
    "                matrix[i_1].append(covariance(l_1, l_2))\n",
    "    return matrix"
   ]
  },
  {
   "cell_type": "code",
   "execution_count": 16,
   "metadata": {},
   "outputs": [
    {
     "data": {
      "text/plain": [
       "[[0.0, 0.0, 0.0, 0.0],\n",
       " [0.0, 1.6666666666666667, 0.875, 2.0],\n",
       " [0.0, 0.875, 0.9166666666666666, 1.25],\n",
       " [0.0, 2.0, 1.25, 4.666666666666667]]"
      ]
     },
     "execution_count": 16,
     "metadata": {},
     "output_type": "execute_result"
    }
   ],
   "source": [
    "matrix = [[1,1,1,1],[1,2,3,4],[1,1,2,3], [2,5,6,7]]\n",
    "covariance_matrix(matrix)"
   ]
  },
  {
   "cell_type": "code",
   "execution_count": null,
   "metadata": {},
   "outputs": [],
   "source": []
  }
 ],
 "metadata": {
  "celltoolbar": "Raw Cell Format",
  "kernelspec": {
   "display_name": "Python 3",
   "language": "python",
   "name": "python3"
  },
  "language_info": {
   "codemirror_mode": {
    "name": "ipython",
    "version": 3
   },
   "file_extension": ".py",
   "mimetype": "text/x-python",
   "name": "python",
   "nbconvert_exporter": "python",
   "pygments_lexer": "ipython3",
   "version": "3.7.4"
  }
 },
 "nbformat": 4,
 "nbformat_minor": 2
}
